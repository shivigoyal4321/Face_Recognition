{
 "cells": [
  {
   "cell_type": "code",
   "execution_count": 5,
   "id": "a2d87195-7157-4671-b501-fd093238c7a4",
   "metadata": {},
   "outputs": [
    {
     "name": "stdout",
     "output_type": "stream",
     "text": [
      "Collecting git+https://github.com/ageitgey/face_recognition_models\n",
      "  Cloning https://github.com/ageitgey/face_recognition_models to c:\\users\\bit\\appdata\\local\\temp\\pip-req-build-xoozf7q7\n",
      "  Resolved https://github.com/ageitgey/face_recognition_models to commit e67de717267507d1e9246de95692eb8be736ab61\n",
      "  Preparing metadata (setup.py): started\n",
      "  Preparing metadata (setup.py): finished with status 'done'\n",
      "Building wheels for collected packages: face_recognition_models\n",
      "  Building wheel for face_recognition_models (setup.py): started\n",
      "  Building wheel for face_recognition_models (setup.py): finished with status 'done'\n",
      "  Created wheel for face_recognition_models: filename=face_recognition_models-0.3.0-py2.py3-none-any.whl size=100566223 sha256=28df7525f34bd78a6e78937214a8f322e77ca00d07d4e72f0382814a2a09569e\n",
      "  Stored in directory: C:\\Users\\BIT\\AppData\\Local\\Temp\\pip-ephem-wheel-cache-4mrww8sz\\wheels\\6e\\e8\\c4\\d1903c1699af945f6e2c9933775055d32a71c5078ba9819957\n",
      "Successfully built face_recognition_models\n",
      "Installing collected packages: face_recognition_models\n",
      "Successfully installed face_recognition_models-0.3.0\n"
     ]
    },
    {
     "name": "stderr",
     "output_type": "stream",
     "text": [
      "  Running command git clone --filter=blob:none --quiet https://github.com/ageitgey/face_recognition_models 'C:\\Users\\BIT\\AppData\\Local\\Temp\\pip-req-build-xoozf7q7'\n",
      "  DEPRECATION: Building 'face_recognition_models' using the legacy setup.py bdist_wheel mechanism, which will be removed in a future version. pip 25.3 will enforce this behaviour change. A possible replacement is to use the standardized build interface by setting the `--use-pep517` option, (possibly combined with `--no-build-isolation`), or adding a `pyproject.toml` file to the source tree of 'face_recognition_models'. Discussion can be found at https://github.com/pypa/pip/issues/6334\n"
     ]
    }
   ],
   "source": [
    "!pip install git+https://github.com/ageitgey/face_recognition_models\n"
   ]
  },
  {
   "cell_type": "code",
   "execution_count": 6,
   "id": "1c1a052f-90b5-48ab-b50a-f49a126c1a3b",
   "metadata": {},
   "outputs": [],
   "source": [
    "import face_recognition\n",
    "import cv2\n",
    "import numpy as np\n",
    "import csv\n",
    "from datetime import datetime"
   ]
  },
  {
   "cell_type": "code",
   "execution_count": 12,
   "id": "6e9220d5-49de-49b8-bcb3-766d43d684f3",
   "metadata": {},
   "outputs": [],
   "source": [
    "import face_recognition\n",
    "import cv2\n",
    "import numpy as np\n",
    "import csv\n",
    "from datetime import datetime\n",
    "\n",
    "# Start webcam\n",
    "video_capture = cv2.VideoCapture(0)\n",
    "\n",
    "# Load known face encodings\n",
    "harry_image = face_recognition.load_image_file(\"faces/harry.jpeg\")\n",
    "harry_encoding = face_recognition.face_encodings(harry_image)[0]\n",
    "\n",
    "larry_image = face_recognition.load_image_file(\"faces/larry.png\")\n",
    "larry_encoding = face_recognition.face_encodings(larry_image)[0]\n",
    "\n",
    "known_face_encodings = [harry_encoding, larry_encoding]\n",
    "known_face_names = [\"Harry\", \"Larry\"]\n",
    "\n",
    "# Track who has been marked present\n",
    "students = known_face_names.copy()\n",
    "\n",
    "# Create CSV file with today's date\n",
    "now = datetime.now()\n",
    "current_date = now.strftime(\"%Y-%m-%d\")\n",
    "f = open(f\"{current_date}.csv\", \"w+\", newline=\"\")\n",
    "lnwriter = csv.writer(f)\n",
    "\n",
    "while True:\n",
    "    ret, frame = video_capture.read()\n",
    "    if not ret:\n",
    "        break\n",
    "\n",
    "    # Resize frame for faster processing\n",
    "    small_frame = cv2.resize(frame, (0, 0), fx=0.25, fy=0.25)\n",
    "    rgb_small_frame = cv2.cvtColor(small_frame, cv2.COLOR_BGR2RGB)\n",
    "\n",
    "    # Find face locations and encodings\n",
    "    face_locations = face_recognition.face_locations(rgb_small_frame)\n",
    "    face_encodings = face_recognition.face_encodings(rgb_small_frame, face_locations)\n",
    "\n",
    "    for face_encoding, face_location in zip(face_encodings, face_locations):\n",
    "        matches = face_recognition.compare_faces(known_face_encodings, face_encoding)\n",
    "        face_distance = face_recognition.face_distance(known_face_encodings, face_encoding)\n",
    "        best_match_index = np.argmin(face_distance)\n",
    "        name = \"Unknown\"\n",
    "\n",
    "        if matches[best_match_index]:\n",
    "            name = known_face_names[best_match_index]\n",
    "\n",
    "        # Draw label and box on original frame (not resized)\n",
    "        top, right, bottom, left = face_location\n",
    "        top *= 4\n",
    "        right *= 4\n",
    "        bottom *= 4\n",
    "        left *= 4\n",
    "\n",
    "        cv2.rectangle(frame, (left, top), (right, bottom), (0, 255, 0), 2)\n",
    "        cv2.putText(frame, name + \" Present\", (left, top - 10), cv2.FONT_HERSHEY_SIMPLEX, 0.75, (255, 0, 0), 2)\n",
    "\n",
    "        # Write attendance to CSV if student is recognized and not yet marked\n",
    "        if name in students:\n",
    "            students.remove(name)\n",
    "            now = datetime.now()  # update timestamp\n",
    "            current_time = now.strftime(\"%H:%M:%S\")\n",
    "            lnwriter.writerow([name, current_time])\n",
    "\n",
    "    # Display the frame\n",
    "    cv2.imshow(\"Attendance\", frame)\n",
    "\n",
    "    # Press 'q' to quit\n",
    "    if cv2.waitKey(1) & 0xFF == ord(\"q\"):\n",
    "        break\n",
    "\n",
    "# Cleanup\n",
    "video_capture.release()\n",
    "cv2.destroyAllWindows()\n",
    "f.close()\n"
   ]
  },
  {
   "cell_type": "code",
   "execution_count": null,
   "id": "54aed05c-f998-4b28-9b29-7824ea8234b0",
   "metadata": {},
   "outputs": [],
   "source": []
  }
 ],
 "metadata": {
  "kernelspec": {
   "display_name": "Python [conda env:base] *",
   "language": "python",
   "name": "conda-base-py"
  },
  "language_info": {
   "codemirror_mode": {
    "name": "ipython",
    "version": 3
   },
   "file_extension": ".py",
   "mimetype": "text/x-python",
   "name": "python",
   "nbconvert_exporter": "python",
   "pygments_lexer": "ipython3",
   "version": "3.12.7"
  }
 },
 "nbformat": 4,
 "nbformat_minor": 5
}
